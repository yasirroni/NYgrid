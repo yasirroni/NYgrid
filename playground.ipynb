{
 "cells": [
  {
   "cell_type": "code",
   "execution_count": 3,
   "metadata": {},
   "outputs": [],
   "source": [
    "from matpower import start_instance"
   ]
  },
  {
   "cell_type": "code",
   "execution_count": 24,
   "metadata": {},
   "outputs": [],
   "source": [
    "m.eval('addpath(genpath(\"C:/Data/Git/NYgrid/Utility\"))')"
   ]
  },
  {
   "cell_type": "code",
   "execution_count": 26,
   "metadata": {},
   "outputs": [],
   "source": [
    "# print(m.path().replace(';','\\n'))"
   ]
  },
  {
   "cell_type": "code",
   "execution_count": 4,
   "metadata": {},
   "outputs": [],
   "source": [
    "m = start_instance()"
   ]
  },
  {
   "cell_type": "code",
   "execution_count": 43,
   "metadata": {},
   "outputs": [
    {
     "name": "stdout",
     "output_type": "stream",
     "text": [
      "Updated MPC saved Result\\mpcupdated.mat!\n"
     ]
    },
    {
     "ename": "Oct2PyError",
     "evalue": "Octave evaluation error:\nerror: 'datetime' undefined near line 82 column 29\nerror: called from:\n    main at line 82, column 27\n    _pyeval at line 57, column 30\n    run at line 86, column 5",
     "output_type": "error",
     "traceback": [
      "\u001b[1;31m---------------------------------------------------------------------------\u001b[0m",
      "\u001b[1;31mOct2PyError\u001b[0m                               Traceback (most recent call last)",
      "\u001b[1;32mc:\\Data\\Git\\NYgrid\\playground.ipynb Cell 5\u001b[0m in \u001b[0;36m<cell line: 1>\u001b[1;34m()\u001b[0m\n\u001b[1;32m----> <a href='vscode-notebook-cell:/c%3A/Data/Git/NYgrid/playground.ipynb#X12sZmlsZQ%3D%3D?line=0'>1</a>\u001b[0m m\u001b[39m.\u001b[39;49mrun(\u001b[39m'\u001b[39;49m\u001b[39mmain.m\u001b[39;49m\u001b[39m'\u001b[39;49m)\n",
      "File \u001b[1;32mc:\\Users\\muham\\AppData\\Local\\Programs\\Python\\Python38\\lib\\site-packages\\oct2py\\dynamic.py:103\u001b[0m, in \u001b[0;36mOctaveFunctionPtr.__call__\u001b[1;34m(self, *inputs, **kwargs)\u001b[0m\n\u001b[0;32m     97\u001b[0m     warnings\u001b[39m.\u001b[39mwarn(\u001b[39m'\u001b[39m\u001b[39mKey - value pairs are deprecated, use `func_args`\u001b[39m\u001b[39m'\u001b[39m,\n\u001b[0;32m     98\u001b[0m                   stacklevel\u001b[39m=\u001b[39m\u001b[39m2\u001b[39m)\n\u001b[0;32m    100\u001b[0m inputs \u001b[39m+\u001b[39m\u001b[39m=\u001b[39m \u001b[39mtuple\u001b[39m(item \u001b[39mfor\u001b[39;00m pair \u001b[39min\u001b[39;00m \u001b[39mzip\u001b[39m(extras\u001b[39m.\u001b[39mkeys(), extras\u001b[39m.\u001b[39mvalues())\n\u001b[0;32m    101\u001b[0m                 \u001b[39mfor\u001b[39;00m item \u001b[39min\u001b[39;00m pair)\n\u001b[1;32m--> 103\u001b[0m \u001b[39mreturn\u001b[39;00m \u001b[39mself\u001b[39;49m\u001b[39m.\u001b[39;49m_ref()\u001b[39m.\u001b[39;49mfeval(\u001b[39mself\u001b[39;49m\u001b[39m.\u001b[39;49mname, \u001b[39m*\u001b[39;49minputs, \u001b[39m*\u001b[39;49m\u001b[39m*\u001b[39;49mkwargs)\n",
      "File \u001b[1;32mc:\\Users\\muham\\AppData\\Local\\Programs\\Python\\Python38\\lib\\site-packages\\oct2py\\core.py:392\u001b[0m, in \u001b[0;36mOct2Py.feval\u001b[1;34m(self, func_path, *func_args, **kwargs)\u001b[0m\n\u001b[0;32m    389\u001b[0m \u001b[39mif\u001b[39;00m \u001b[39mnot\u001b[39;00m stream_handler:\n\u001b[0;32m    390\u001b[0m     stream_handler \u001b[39m=\u001b[39m \u001b[39mself\u001b[39m\u001b[39m.\u001b[39mlogger\u001b[39m.\u001b[39minfo \u001b[39mif\u001b[39;00m verbose \u001b[39melse\u001b[39;00m \u001b[39mself\u001b[39m\u001b[39m.\u001b[39mlogger\u001b[39m.\u001b[39mdebug\n\u001b[1;32m--> 392\u001b[0m \u001b[39mreturn\u001b[39;00m \u001b[39mself\u001b[39;49m\u001b[39m.\u001b[39;49m_feval(func_name, func_args, dname\u001b[39m=\u001b[39;49mdname, nout\u001b[39m=\u001b[39;49mnout,\n\u001b[0;32m    393\u001b[0m                   timeout\u001b[39m=\u001b[39;49mtimeout, stream_handler\u001b[39m=\u001b[39;49mstream_handler,\n\u001b[0;32m    394\u001b[0m                   store_as\u001b[39m=\u001b[39;49mstore_as, plot_dir\u001b[39m=\u001b[39;49mplot_dir)\n",
      "File \u001b[1;32mc:\\Users\\muham\\AppData\\Local\\Programs\\Python\\Python38\\lib\\site-packages\\oct2py\\core.py:595\u001b[0m, in \u001b[0;36mOct2Py._feval\u001b[1;34m(self, func_name, func_args, dname, nout, timeout, stream_handler, store_as, plot_dir)\u001b[0m\n\u001b[0;32m    593\u001b[0m \u001b[39mif\u001b[39;00m resp[\u001b[39m'\u001b[39m\u001b[39merr\u001b[39m\u001b[39m'\u001b[39m]:\n\u001b[0;32m    594\u001b[0m     msg \u001b[39m=\u001b[39m \u001b[39mself\u001b[39m\u001b[39m.\u001b[39m_parse_error(resp[\u001b[39m'\u001b[39m\u001b[39merr\u001b[39m\u001b[39m'\u001b[39m])\n\u001b[1;32m--> 595\u001b[0m     \u001b[39mraise\u001b[39;00m Oct2PyError(msg)\n\u001b[0;32m    597\u001b[0m result \u001b[39m=\u001b[39m resp[\u001b[39m'\u001b[39m\u001b[39mresult\u001b[39m\u001b[39m'\u001b[39m]\u001b[39m.\u001b[39mravel()\u001b[39m.\u001b[39mtolist()\n\u001b[0;32m    598\u001b[0m \u001b[39mif\u001b[39;00m \u001b[39misinstance\u001b[39m(result, \u001b[39mlist\u001b[39m) \u001b[39mand\u001b[39;00m \u001b[39mlen\u001b[39m(result) \u001b[39m==\u001b[39m \u001b[39m1\u001b[39m:\n",
      "\u001b[1;31mOct2PyError\u001b[0m: Octave evaluation error:\nerror: 'datetime' undefined near line 82 column 29\nerror: called from:\n    main at line 82, column 27\n    _pyeval at line 57, column 30\n    run at line 86, column 5"
     ]
    }
   ],
   "source": [
    "m.run('main.m')"
   ]
  },
  {
   "cell_type": "code",
   "execution_count": 39,
   "metadata": {},
   "outputs": [
    {
     "name": "stdout",
     "output_type": "stream",
     "text": [
      "fullname = 13.txt\n"
     ]
    }
   ],
   "source": [
    "m.eval('fullname = [int2str(13) \".txt\"]')"
   ]
  },
  {
   "cell_type": "code",
   "execution_count": 1,
   "metadata": {},
   "outputs": [],
   "source": [
    "from oct2py import octave, Oct2Py"
   ]
  },
  {
   "cell_type": "code",
   "execution_count": 5,
   "metadata": {},
   "outputs": [
    {
     "name": "stdout",
     "output_type": "stream",
     "text": [
      "error: 'sentinel' undefined near line 99 column 14\n",
      "error: called from\n",
      "    _pyeval at line 99 column 10\n"
     ]
    }
   ],
   "source": [
    "m.run('main.m')"
   ]
  },
  {
   "cell_type": "code",
   "execution_count": 2,
   "metadata": {},
   "outputs": [
    {
     "name": "stdout",
     "output_type": "stream",
     "text": [
      "error: 'sentinel' undefined near line 99 column 14\n",
      "error: called from\n",
      "    _pyeval at line 99 column 10\n"
     ]
    }
   ],
   "source": [
    "octave.run('main.m')"
   ]
  },
  {
   "cell_type": "code",
   "execution_count": 8,
   "metadata": {},
   "outputs": [
    {
     "name": "stdout",
     "output_type": "stream",
     "text": [
      "Requirement already satisfied: oct2py in c:\\users\\muham\\appdata\\local\\programs\\python\\python38\\lib\\site-packages (5.5.1)\n",
      "Requirement already satisfied: numpy>=1.12 in c:\\users\\muham\\appdata\\local\\programs\\python\\python38\\lib\\site-packages (from oct2py) (1.23.4)\n",
      "Requirement already satisfied: octave-kernel>=0.34.0 in c:\\users\\muham\\appdata\\local\\programs\\python\\python38\\lib\\site-packages (from oct2py) (0.34.2)\n",
      "Requirement already satisfied: scipy>=0.17 in c:\\users\\muham\\appdata\\local\\programs\\python\\python38\\lib\\site-packages (from oct2py) (1.9.3)\n",
      "Requirement already satisfied: ipykernel in c:\\users\\muham\\appdata\\local\\programs\\python\\python38\\lib\\site-packages (from octave-kernel>=0.34.0->oct2py) (6.13.0)\n",
      "Requirement already satisfied: metakernel>=0.24.0 in c:\\users\\muham\\appdata\\local\\programs\\python\\python38\\lib\\site-packages (from octave-kernel>=0.34.0->oct2py) (0.29.2)\n",
      "Requirement already satisfied: jupyter-client>=4.3.0 in c:\\users\\muham\\appdata\\local\\programs\\python\\python38\\lib\\site-packages (from octave-kernel>=0.34.0->oct2py) (7.3.1)\n",
      "Requirement already satisfied: nest-asyncio>=1.5.4 in c:\\users\\muham\\appdata\\local\\programs\\python\\python38\\lib\\site-packages (from jupyter-client>=4.3.0->octave-kernel>=0.34.0->oct2py) (1.5.5)\n",
      "Requirement already satisfied: jupyter-core>=4.9.2 in c:\\users\\muham\\appdata\\local\\programs\\python\\python38\\lib\\site-packages (from jupyter-client>=4.3.0->octave-kernel>=0.34.0->oct2py) (4.10.0)\n",
      "Requirement already satisfied: entrypoints in c:\\users\\muham\\appdata\\local\\programs\\python\\python38\\lib\\site-packages (from jupyter-client>=4.3.0->octave-kernel>=0.34.0->oct2py) (0.4)\n",
      "Requirement already satisfied: traitlets in c:\\users\\muham\\appdata\\local\\programs\\python\\python38\\lib\\site-packages (from jupyter-client>=4.3.0->octave-kernel>=0.34.0->oct2py) (5.5.0)\n",
      "Requirement already satisfied: pyzmq>=22.3 in c:\\users\\muham\\appdata\\local\\programs\\python\\python38\\lib\\site-packages (from jupyter-client>=4.3.0->octave-kernel>=0.34.0->oct2py) (24.0.1)\n",
      "Requirement already satisfied: python-dateutil>=2.8.2 in c:\\users\\muham\\appdata\\local\\programs\\python\\python38\\lib\\site-packages (from jupyter-client>=4.3.0->octave-kernel>=0.34.0->oct2py) (2.8.2)\n",
      "Requirement already satisfied: tornado>=6.0 in c:\\users\\muham\\appdata\\local\\programs\\python\\python38\\lib\\site-packages (from jupyter-client>=4.3.0->octave-kernel>=0.34.0->oct2py) (6.1)\n",
      "Requirement already satisfied: pexpect>=4.8 in c:\\users\\muham\\appdata\\local\\programs\\python\\python38\\lib\\site-packages (from metakernel>=0.24.0->octave-kernel>=0.34.0->oct2py) (4.8.0)\n",
      "Requirement already satisfied: jedi>=0.18 in c:\\users\\muham\\appdata\\local\\programs\\python\\python38\\lib\\site-packages (from metakernel>=0.24.0->octave-kernel>=0.34.0->oct2py) (0.18.1)\n",
      "Requirement already satisfied: psutil in c:\\users\\muham\\appdata\\local\\programs\\python\\python38\\lib\\site-packages (from ipykernel->octave-kernel>=0.34.0->oct2py) (5.9.0)\n",
      "Requirement already satisfied: debugpy>=1.0 in c:\\users\\muham\\appdata\\local\\programs\\python\\python38\\lib\\site-packages (from ipykernel->octave-kernel>=0.34.0->oct2py) (1.6.0)\n",
      "Requirement already satisfied: ipython>=7.23.1 in c:\\users\\muham\\appdata\\local\\programs\\python\\python38\\lib\\site-packages (from ipykernel->octave-kernel>=0.34.0->oct2py) (8.3.0)\n",
      "Requirement already satisfied: packaging in c:\\users\\muham\\appdata\\local\\programs\\python\\python38\\lib\\site-packages (from ipykernel->octave-kernel>=0.34.0->oct2py) (21.3)\n",
      "Requirement already satisfied: matplotlib-inline>=0.1 in c:\\users\\muham\\appdata\\local\\programs\\python\\python38\\lib\\site-packages (from ipykernel->octave-kernel>=0.34.0->oct2py) (0.1.3)\n",
      "Requirement already satisfied: colorama in c:\\users\\muham\\appdata\\local\\programs\\python\\python38\\lib\\site-packages (from ipython>=7.23.1->ipykernel->octave-kernel>=0.34.0->oct2py) (0.4.6)\n",
      "Requirement already satisfied: pickleshare in c:\\users\\muham\\appdata\\local\\programs\\python\\python38\\lib\\site-packages (from ipython>=7.23.1->ipykernel->octave-kernel>=0.34.0->oct2py) (0.7.5)\n",
      "Requirement already satisfied: decorator in c:\\users\\muham\\appdata\\local\\programs\\python\\python38\\lib\\site-packages (from ipython>=7.23.1->ipykernel->octave-kernel>=0.34.0->oct2py) (5.1.1)\n",
      "Requirement already satisfied: setuptools>=18.5 in c:\\users\\muham\\appdata\\local\\programs\\python\\python38\\lib\\site-packages (from ipython>=7.23.1->ipykernel->octave-kernel>=0.34.0->oct2py) (56.0.0)\n",
      "Requirement already satisfied: prompt-toolkit!=3.0.0,!=3.0.1,<3.1.0,>=2.0.0 in c:\\users\\muham\\appdata\\local\\programs\\python\\python38\\lib\\site-packages (from ipython>=7.23.1->ipykernel->octave-kernel>=0.34.0->oct2py) (3.0.29)\n",
      "Requirement already satisfied: stack-data in c:\\users\\muham\\appdata\\local\\programs\\python\\python38\\lib\\site-packages (from ipython>=7.23.1->ipykernel->octave-kernel>=0.34.0->oct2py) (0.2.0)\n",
      "Requirement already satisfied: pygments>=2.4.0 in c:\\users\\muham\\appdata\\local\\programs\\python\\python38\\lib\\site-packages (from ipython>=7.23.1->ipykernel->octave-kernel>=0.34.0->oct2py) (2.11.2)\n",
      "Requirement already satisfied: backcall in c:\\users\\muham\\appdata\\local\\programs\\python\\python38\\lib\\site-packages (from ipython>=7.23.1->ipykernel->octave-kernel>=0.34.0->oct2py) (0.2.0)\n",
      "Requirement already satisfied: parso<0.9.0,>=0.8.0 in c:\\users\\muham\\appdata\\local\\programs\\python\\python38\\lib\\site-packages (from jedi>=0.18->metakernel>=0.24.0->octave-kernel>=0.34.0->oct2py) (0.8.3)\n",
      "Requirement already satisfied: pywin32>=1.0 in c:\\users\\muham\\appdata\\local\\programs\\python\\python38\\lib\\site-packages (from jupyter-core>=4.9.2->jupyter-client>=4.3.0->octave-kernel>=0.34.0->oct2py) (304)\n",
      "Requirement already satisfied: ptyprocess>=0.5 in c:\\users\\muham\\appdata\\local\\programs\\python\\python38\\lib\\site-packages (from pexpect>=4.8->metakernel>=0.24.0->octave-kernel>=0.34.0->oct2py) (0.7.0)\n",
      "Requirement already satisfied: six>=1.5 in c:\\users\\muham\\appdata\\local\\programs\\python\\python38\\lib\\site-packages (from python-dateutil>=2.8.2->jupyter-client>=4.3.0->octave-kernel>=0.34.0->oct2py) (1.16.0)\n",
      "Requirement already satisfied: pyparsing!=3.0.5,>=2.0.2 in c:\\users\\muham\\appdata\\local\\programs\\python\\python38\\lib\\site-packages (from packaging->ipykernel->octave-kernel>=0.34.0->oct2py) (3.0.7)\n",
      "Requirement already satisfied: wcwidth in c:\\users\\muham\\appdata\\local\\programs\\python\\python38\\lib\\site-packages (from prompt-toolkit!=3.0.0,!=3.0.1,<3.1.0,>=2.0.0->ipython>=7.23.1->ipykernel->octave-kernel>=0.34.0->oct2py) (0.2.5)\n",
      "Requirement already satisfied: executing in c:\\users\\muham\\appdata\\local\\programs\\python\\python38\\lib\\site-packages (from stack-data->ipython>=7.23.1->ipykernel->octave-kernel>=0.34.0->oct2py) (0.8.3)\n",
      "Requirement already satisfied: pure-eval in c:\\users\\muham\\appdata\\local\\programs\\python\\python38\\lib\\site-packages (from stack-data->ipython>=7.23.1->ipykernel->octave-kernel>=0.34.0->oct2py) (0.2.2)\n",
      "Requirement already satisfied: asttokens in c:\\users\\muham\\appdata\\local\\programs\\python\\python38\\lib\\site-packages (from stack-data->ipython>=7.23.1->ipykernel->octave-kernel>=0.34.0->oct2py) (2.0.5)\n"
     ]
    }
   ],
   "source": [
    "!pip install oct2py --upgrade"
   ]
  },
  {
   "cell_type": "code",
   "execution_count": 2,
   "metadata": {},
   "outputs": [],
   "source": [
    "m = Oct2Py()"
   ]
  },
  {
   "cell_type": "code",
   "execution_count": 4,
   "metadata": {},
   "outputs": [
    {
     "ename": "Oct2PyError",
     "evalue": "Octave evaluation error:\nerror: invalid call to script c:\\Data\\Git\\NYgrid\\main.m",
     "output_type": "error",
     "traceback": [
      "\u001b[1;31m---------------------------------------------------------------------------\u001b[0m",
      "\u001b[1;31mOct2PyError\u001b[0m                               Traceback (most recent call last)",
      "\u001b[1;32mc:\\Data\\Git\\NYgrid\\playground.ipynb Cell 3\u001b[0m in \u001b[0;36m<cell line: 1>\u001b[1;34m()\u001b[0m\n\u001b[1;32m----> <a href='vscode-notebook-cell:/c%3A/Data/Git/NYgrid/playground.ipynb#W2sZmlsZQ%3D%3D?line=0'>1</a>\u001b[0m m\u001b[39m.\u001b[39;49mmain()\n",
      "File \u001b[1;32mc:\\Users\\muham\\AppData\\Local\\Programs\\Python\\Python38\\lib\\site-packages\\oct2py\\dynamic.py:103\u001b[0m, in \u001b[0;36mOctaveFunctionPtr.__call__\u001b[1;34m(self, *inputs, **kwargs)\u001b[0m\n\u001b[0;32m     97\u001b[0m     warnings\u001b[39m.\u001b[39mwarn(\u001b[39m'\u001b[39m\u001b[39mKey - value pairs are deprecated, use `func_args`\u001b[39m\u001b[39m'\u001b[39m,\n\u001b[0;32m     98\u001b[0m                   stacklevel\u001b[39m=\u001b[39m\u001b[39m2\u001b[39m)\n\u001b[0;32m    100\u001b[0m inputs \u001b[39m+\u001b[39m\u001b[39m=\u001b[39m \u001b[39mtuple\u001b[39m(item \u001b[39mfor\u001b[39;00m pair \u001b[39min\u001b[39;00m \u001b[39mzip\u001b[39m(extras\u001b[39m.\u001b[39mkeys(), extras\u001b[39m.\u001b[39mvalues())\n\u001b[0;32m    101\u001b[0m                 \u001b[39mfor\u001b[39;00m item \u001b[39min\u001b[39;00m pair)\n\u001b[1;32m--> 103\u001b[0m \u001b[39mreturn\u001b[39;00m \u001b[39mself\u001b[39;49m\u001b[39m.\u001b[39;49m_ref()\u001b[39m.\u001b[39;49mfeval(\u001b[39mself\u001b[39;49m\u001b[39m.\u001b[39;49mname, \u001b[39m*\u001b[39;49minputs, \u001b[39m*\u001b[39;49m\u001b[39m*\u001b[39;49mkwargs)\n",
      "File \u001b[1;32mc:\\Users\\muham\\AppData\\Local\\Programs\\Python\\Python38\\lib\\site-packages\\oct2py\\core.py:392\u001b[0m, in \u001b[0;36mOct2Py.feval\u001b[1;34m(self, func_path, *func_args, **kwargs)\u001b[0m\n\u001b[0;32m    389\u001b[0m \u001b[39mif\u001b[39;00m \u001b[39mnot\u001b[39;00m stream_handler:\n\u001b[0;32m    390\u001b[0m     stream_handler \u001b[39m=\u001b[39m \u001b[39mself\u001b[39m\u001b[39m.\u001b[39mlogger\u001b[39m.\u001b[39minfo \u001b[39mif\u001b[39;00m verbose \u001b[39melse\u001b[39;00m \u001b[39mself\u001b[39m\u001b[39m.\u001b[39mlogger\u001b[39m.\u001b[39mdebug\n\u001b[1;32m--> 392\u001b[0m \u001b[39mreturn\u001b[39;00m \u001b[39mself\u001b[39;49m\u001b[39m.\u001b[39;49m_feval(func_name, func_args, dname\u001b[39m=\u001b[39;49mdname, nout\u001b[39m=\u001b[39;49mnout,\n\u001b[0;32m    393\u001b[0m                   timeout\u001b[39m=\u001b[39;49mtimeout, stream_handler\u001b[39m=\u001b[39;49mstream_handler,\n\u001b[0;32m    394\u001b[0m                   store_as\u001b[39m=\u001b[39;49mstore_as, plot_dir\u001b[39m=\u001b[39;49mplot_dir)\n",
      "File \u001b[1;32mc:\\Users\\muham\\AppData\\Local\\Programs\\Python\\Python38\\lib\\site-packages\\oct2py\\core.py:595\u001b[0m, in \u001b[0;36mOct2Py._feval\u001b[1;34m(self, func_name, func_args, dname, nout, timeout, stream_handler, store_as, plot_dir)\u001b[0m\n\u001b[0;32m    593\u001b[0m \u001b[39mif\u001b[39;00m resp[\u001b[39m'\u001b[39m\u001b[39merr\u001b[39m\u001b[39m'\u001b[39m]:\n\u001b[0;32m    594\u001b[0m     msg \u001b[39m=\u001b[39m \u001b[39mself\u001b[39m\u001b[39m.\u001b[39m_parse_error(resp[\u001b[39m'\u001b[39m\u001b[39merr\u001b[39m\u001b[39m'\u001b[39m])\n\u001b[1;32m--> 595\u001b[0m     \u001b[39mraise\u001b[39;00m Oct2PyError(msg)\n\u001b[0;32m    597\u001b[0m result \u001b[39m=\u001b[39m resp[\u001b[39m'\u001b[39m\u001b[39mresult\u001b[39m\u001b[39m'\u001b[39m]\u001b[39m.\u001b[39mravel()\u001b[39m.\u001b[39mtolist()\n\u001b[0;32m    598\u001b[0m \u001b[39mif\u001b[39;00m \u001b[39misinstance\u001b[39m(result, \u001b[39mlist\u001b[39m) \u001b[39mand\u001b[39;00m \u001b[39mlen\u001b[39m(result) \u001b[39m==\u001b[39m \u001b[39m1\u001b[39m:\n",
      "\u001b[1;31mOct2PyError\u001b[0m: Octave evaluation error:\nerror: invalid call to script c:\\Data\\Git\\NYgrid\\main.m"
     ]
    }
   ],
   "source": [
    "m.main()"
   ]
  },
  {
   "cell_type": "code",
   "execution_count": null,
   "metadata": {},
   "outputs": [],
   "source": []
  }
 ],
 "metadata": {
  "kernelspec": {
   "display_name": "Python 3.8.10 64-bit",
   "language": "python",
   "name": "python3"
  },
  "language_info": {
   "codemirror_mode": {
    "name": "ipython",
    "version": 3
   },
   "file_extension": ".py",
   "mimetype": "text/x-python",
   "name": "python",
   "nbconvert_exporter": "python",
   "pygments_lexer": "ipython3",
   "version": "3.8.10"
  },
  "orig_nbformat": 4,
  "vscode": {
   "interpreter": {
    "hash": "7d9fbcc9d36fec826ec7ea63260f41bcb424332a9e727079e8172fbdc4352c28"
   }
  }
 },
 "nbformat": 4,
 "nbformat_minor": 2
}
